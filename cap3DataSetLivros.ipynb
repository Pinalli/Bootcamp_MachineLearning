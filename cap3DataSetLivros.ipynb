{
  "nbformat": 4,
  "nbformat_minor": 0,
  "metadata": {
    "colab": {
      "name": "cap3DataSetLivros.ipynb",
      "provenance": [],
      "collapsed_sections": [],
      "include_colab_link": true
    },
    "kernelspec": {
      "name": "python3",
      "display_name": "Python 3"
    }
  },
  "cells": [
    {
      "cell_type": "markdown",
      "metadata": {
        "id": "view-in-github",
        "colab_type": "text"
      },
      "source": [
        "<a href=\"https://colab.research.google.com/github/Pinalli/Bootcamp_MachineLearning/blob/master/cap3DataSetLivros.ipynb\" target=\"_parent\"><img src=\"https://colab.research.google.com/assets/colab-badge.svg\" alt=\"Open In Colab\"/></a>"
      ]
    },
    {
      "cell_type": "code",
      "metadata": {
        "id": "f2yviy1yONmH"
      },
      "source": [
        "#importando\n",
        "import pandas as pd\n",
        "import numpy as np\n",
        "import datetime"
      ],
      "execution_count": null,
      "outputs": []
    },
    {
      "cell_type": "code",
      "metadata": {
        "id": "vFrcVwS_Oayj",
        "outputId": "20444b2c-2aab-4280-8f3f-5ddace9528d1",
        "colab": {
          "resources": {
            "http://localhost:8080/nbextensions/google.colab/files.js": {
              "data": "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",
              "ok": true,
              "headers": [
                [
                  "content-type",
                  "application/javascript"
                ]
              ],
              "status": 200,
              "status_text": ""
            }
          },
          "base_uri": "https://localhost:8080/",
          "height": 73
        }
      },
      "source": [
        "from google.colab import files\n",
        "uploaded = files.upload()"
      ],
      "execution_count": null,
      "outputs": [
        {
          "output_type": "display_data",
          "data": {
            "text/html": [
              "\n",
              "     <input type=\"file\" id=\"files-95d2276b-a872-450e-a7d7-72683beae41a\" name=\"files[]\" multiple disabled\n",
              "        style=\"border:none\" />\n",
              "     <output id=\"result-95d2276b-a872-450e-a7d7-72683beae41a\">\n",
              "      Upload widget is only available when the cell has been executed in the\n",
              "      current browser session. Please rerun this cell to enable.\n",
              "      </output>\n",
              "      <script src=\"/nbextensions/google.colab/files.js\"></script> "
            ],
            "text/plain": [
              "<IPython.core.display.HTML object>"
            ]
          },
          "metadata": {
            "tags": []
          }
        },
        {
          "output_type": "stream",
          "text": [
            "Saving BL-Flickr-Images-Book.csv to BL-Flickr-Images-Book.csv\n"
          ],
          "name": "stdout"
        }
      ]
    },
    {
      "cell_type": "code",
      "metadata": {
        "id": "GdBWfwINOe_6"
      },
      "source": [
        "#importando os dados como um dataframe\n",
        "df_flickr_book = pd.read_csv('BL-Flickr-Images-Book.csv') #dataset que contém informações sobre diferentes livros existentes na British_Library"
      ],
      "execution_count": null,
      "outputs": []
    },
    {
      "cell_type": "code",
      "metadata": {
        "id": "7LYwCdfBOxRp",
        "outputId": "501ebedc-1a8b-4170-9da9-4fac00e5ce5d",
        "colab": {
          "base_uri": "https://localhost:8080/",
          "height": 513
        }
      },
      "source": [
        "#conhecendo o dataset\n",
        "df_flickr_book.head(5)"
      ],
      "execution_count": null,
      "outputs": [
        {
          "output_type": "execute_result",
          "data": {
            "text/html": [
              "<div>\n",
              "<style scoped>\n",
              "    .dataframe tbody tr th:only-of-type {\n",
              "        vertical-align: middle;\n",
              "    }\n",
              "\n",
              "    .dataframe tbody tr th {\n",
              "        vertical-align: top;\n",
              "    }\n",
              "\n",
              "    .dataframe thead th {\n",
              "        text-align: right;\n",
              "    }\n",
              "</style>\n",
              "<table border=\"1\" class=\"dataframe\">\n",
              "  <thead>\n",
              "    <tr style=\"text-align: right;\">\n",
              "      <th></th>\n",
              "      <th>Identifier</th>\n",
              "      <th>Edition Statement</th>\n",
              "      <th>Place of Publication</th>\n",
              "      <th>Date of Publication</th>\n",
              "      <th>Publisher</th>\n",
              "      <th>Title</th>\n",
              "      <th>Author</th>\n",
              "      <th>Contributors</th>\n",
              "      <th>Corporate Author</th>\n",
              "      <th>Corporate Contributors</th>\n",
              "      <th>Former owner</th>\n",
              "      <th>Engraver</th>\n",
              "      <th>Issuance type</th>\n",
              "      <th>Flickr URL</th>\n",
              "      <th>Shelfmarks</th>\n",
              "    </tr>\n",
              "  </thead>\n",
              "  <tbody>\n",
              "    <tr>\n",
              "      <th>0</th>\n",
              "      <td>206</td>\n",
              "      <td>NaN</td>\n",
              "      <td>London</td>\n",
              "      <td>1879 [1878]</td>\n",
              "      <td>S. Tinsley &amp; Co.</td>\n",
              "      <td>Walter Forbes. [A novel.] By A. A</td>\n",
              "      <td>A. A.</td>\n",
              "      <td>FORBES, Walter.</td>\n",
              "      <td>NaN</td>\n",
              "      <td>NaN</td>\n",
              "      <td>NaN</td>\n",
              "      <td>NaN</td>\n",
              "      <td>monographic</td>\n",
              "      <td>http://www.flickr.com/photos/britishlibrary/ta...</td>\n",
              "      <td>British Library HMNTS 12641.b.30.</td>\n",
              "    </tr>\n",
              "    <tr>\n",
              "      <th>1</th>\n",
              "      <td>216</td>\n",
              "      <td>NaN</td>\n",
              "      <td>London; Virtue &amp; Yorston</td>\n",
              "      <td>1868</td>\n",
              "      <td>Virtue &amp; Co.</td>\n",
              "      <td>All for Greed. [A novel. The dedication signed...</td>\n",
              "      <td>A., A. A.</td>\n",
              "      <td>BLAZE DE BURY, Marie Pauline Rose - Baroness</td>\n",
              "      <td>NaN</td>\n",
              "      <td>NaN</td>\n",
              "      <td>NaN</td>\n",
              "      <td>NaN</td>\n",
              "      <td>monographic</td>\n",
              "      <td>http://www.flickr.com/photos/britishlibrary/ta...</td>\n",
              "      <td>British Library HMNTS 12626.cc.2.</td>\n",
              "    </tr>\n",
              "    <tr>\n",
              "      <th>2</th>\n",
              "      <td>218</td>\n",
              "      <td>NaN</td>\n",
              "      <td>London</td>\n",
              "      <td>1869</td>\n",
              "      <td>Bradbury, Evans &amp; Co.</td>\n",
              "      <td>Love the Avenger. By the author of “All for Gr...</td>\n",
              "      <td>A., A. A.</td>\n",
              "      <td>BLAZE DE BURY, Marie Pauline Rose - Baroness</td>\n",
              "      <td>NaN</td>\n",
              "      <td>NaN</td>\n",
              "      <td>NaN</td>\n",
              "      <td>NaN</td>\n",
              "      <td>monographic</td>\n",
              "      <td>http://www.flickr.com/photos/britishlibrary/ta...</td>\n",
              "      <td>British Library HMNTS 12625.dd.1.</td>\n",
              "    </tr>\n",
              "    <tr>\n",
              "      <th>3</th>\n",
              "      <td>472</td>\n",
              "      <td>NaN</td>\n",
              "      <td>London</td>\n",
              "      <td>1851</td>\n",
              "      <td>James Darling</td>\n",
              "      <td>Welsh Sketches, chiefly ecclesiastical, to the...</td>\n",
              "      <td>A., E. S.</td>\n",
              "      <td>Appleyard, Ernest Silvanus.</td>\n",
              "      <td>NaN</td>\n",
              "      <td>NaN</td>\n",
              "      <td>NaN</td>\n",
              "      <td>NaN</td>\n",
              "      <td>monographic</td>\n",
              "      <td>http://www.flickr.com/photos/britishlibrary/ta...</td>\n",
              "      <td>British Library HMNTS 10369.bbb.15.</td>\n",
              "    </tr>\n",
              "    <tr>\n",
              "      <th>4</th>\n",
              "      <td>480</td>\n",
              "      <td>A new edition, revised, etc.</td>\n",
              "      <td>London</td>\n",
              "      <td>1857</td>\n",
              "      <td>Wertheim &amp; Macintosh</td>\n",
              "      <td>[The World in which I live, and my place in it...</td>\n",
              "      <td>A., E. S.</td>\n",
              "      <td>BROOME, John Henry.</td>\n",
              "      <td>NaN</td>\n",
              "      <td>NaN</td>\n",
              "      <td>NaN</td>\n",
              "      <td>NaN</td>\n",
              "      <td>monographic</td>\n",
              "      <td>http://www.flickr.com/photos/britishlibrary/ta...</td>\n",
              "      <td>British Library HMNTS 9007.d.28.</td>\n",
              "    </tr>\n",
              "  </tbody>\n",
              "</table>\n",
              "</div>"
            ],
            "text/plain": [
              "   Identifier  ...                           Shelfmarks\n",
              "0         206  ...    British Library HMNTS 12641.b.30.\n",
              "1         216  ...    British Library HMNTS 12626.cc.2.\n",
              "2         218  ...    British Library HMNTS 12625.dd.1.\n",
              "3         472  ...  British Library HMNTS 10369.bbb.15.\n",
              "4         480  ...     British Library HMNTS 9007.d.28.\n",
              "\n",
              "[5 rows x 15 columns]"
            ]
          },
          "metadata": {
            "tags": []
          },
          "execution_count": 12
        }
      ]
    },
    {
      "cell_type": "code",
      "metadata": {
        "id": "bqyquTZvO_zY",
        "outputId": "21a237e4-97e4-4556-d56d-747204f3a604",
        "colab": {
          "base_uri": "https://localhost:8080/",
          "height": 383
        }
      },
      "source": [
        "#obtendo informações sobre o dataset\n",
        "df_flickr_book.info()"
      ],
      "execution_count": null,
      "outputs": [
        {
          "output_type": "stream",
          "text": [
            "<class 'pandas.core.frame.DataFrame'>\n",
            "RangeIndex: 8287 entries, 0 to 8286\n",
            "Data columns (total 15 columns):\n",
            " #   Column                  Non-Null Count  Dtype  \n",
            "---  ------                  --------------  -----  \n",
            " 0   Identifier              8287 non-null   int64  \n",
            " 1   Edition Statement       773 non-null    object \n",
            " 2   Place of Publication    8287 non-null   object \n",
            " 3   Date of Publication     8106 non-null   object \n",
            " 4   Publisher               4092 non-null   object \n",
            " 5   Title                   8287 non-null   object \n",
            " 6   Author                  6509 non-null   object \n",
            " 7   Contributors            8287 non-null   object \n",
            " 8   Corporate Author        0 non-null      float64\n",
            " 9   Corporate Contributors  0 non-null      float64\n",
            " 10  Former owner            1 non-null      object \n",
            " 11  Engraver                0 non-null      float64\n",
            " 12  Issuance type           8287 non-null   object \n",
            " 13  Flickr URL              8287 non-null   object \n",
            " 14  Shelfmarks              8287 non-null   object \n",
            "dtypes: float64(3), int64(1), object(11)\n",
            "memory usage: 971.3+ KB\n"
          ],
          "name": "stdout"
        }
      ]
    },
    {
      "cell_type": "code",
      "metadata": {
        "id": "Xi3_O6yHR2Tv"
      },
      "source": [
        "#realizando o drop de colunas\n",
        "colunas_retiradas = ['Edition Statement', 'Corporate Author' ,'Corporate Contributors', 'Former owner', 'Engraver', 'Contributors', 'Issuance type', 'Shelfmarks'] #lista que contém as colunas a serem retiradas\n",
        "df_flickr_book.drop(columns=colunas_retiradas, axis=1, inplace=True)"
      ],
      "execution_count": null,
      "outputs": []
    },
    {
      "cell_type": "code",
      "metadata": {
        "id": "TggoCT8mTv0h",
        "outputId": "d3defb6c-11c1-4756-af88-8cb3dfb1abec",
        "colab": {
          "base_uri": "https://localhost:8080/",
          "height": 197
        }
      },
      "source": [
        "df_flickr_book.head()"
      ],
      "execution_count": null,
      "outputs": [
        {
          "output_type": "execute_result",
          "data": {
            "text/html": [
              "<div>\n",
              "<style scoped>\n",
              "    .dataframe tbody tr th:only-of-type {\n",
              "        vertical-align: middle;\n",
              "    }\n",
              "\n",
              "    .dataframe tbody tr th {\n",
              "        vertical-align: top;\n",
              "    }\n",
              "\n",
              "    .dataframe thead th {\n",
              "        text-align: right;\n",
              "    }\n",
              "</style>\n",
              "<table border=\"1\" class=\"dataframe\">\n",
              "  <thead>\n",
              "    <tr style=\"text-align: right;\">\n",
              "      <th></th>\n",
              "      <th>Identifier</th>\n",
              "      <th>Place of Publication</th>\n",
              "      <th>Date of Publication</th>\n",
              "      <th>Publisher</th>\n",
              "      <th>Title</th>\n",
              "      <th>Author</th>\n",
              "      <th>Flickr URL</th>\n",
              "    </tr>\n",
              "  </thead>\n",
              "  <tbody>\n",
              "    <tr>\n",
              "      <th>0</th>\n",
              "      <td>206</td>\n",
              "      <td>London</td>\n",
              "      <td>1879 [1878]</td>\n",
              "      <td>S. Tinsley &amp; Co.</td>\n",
              "      <td>Walter Forbes. [A novel.] By A. A</td>\n",
              "      <td>A. A.</td>\n",
              "      <td>http://www.flickr.com/photos/britishlibrary/ta...</td>\n",
              "    </tr>\n",
              "    <tr>\n",
              "      <th>1</th>\n",
              "      <td>216</td>\n",
              "      <td>London; Virtue &amp; Yorston</td>\n",
              "      <td>1868</td>\n",
              "      <td>Virtue &amp; Co.</td>\n",
              "      <td>All for Greed. [A novel. The dedication signed...</td>\n",
              "      <td>A., A. A.</td>\n",
              "      <td>http://www.flickr.com/photos/britishlibrary/ta...</td>\n",
              "    </tr>\n",
              "    <tr>\n",
              "      <th>2</th>\n",
              "      <td>218</td>\n",
              "      <td>London</td>\n",
              "      <td>1869</td>\n",
              "      <td>Bradbury, Evans &amp; Co.</td>\n",
              "      <td>Love the Avenger. By the author of “All for Gr...</td>\n",
              "      <td>A., A. A.</td>\n",
              "      <td>http://www.flickr.com/photos/britishlibrary/ta...</td>\n",
              "    </tr>\n",
              "    <tr>\n",
              "      <th>3</th>\n",
              "      <td>472</td>\n",
              "      <td>London</td>\n",
              "      <td>1851</td>\n",
              "      <td>James Darling</td>\n",
              "      <td>Welsh Sketches, chiefly ecclesiastical, to the...</td>\n",
              "      <td>A., E. S.</td>\n",
              "      <td>http://www.flickr.com/photos/britishlibrary/ta...</td>\n",
              "    </tr>\n",
              "    <tr>\n",
              "      <th>4</th>\n",
              "      <td>480</td>\n",
              "      <td>London</td>\n",
              "      <td>1857</td>\n",
              "      <td>Wertheim &amp; Macintosh</td>\n",
              "      <td>[The World in which I live, and my place in it...</td>\n",
              "      <td>A., E. S.</td>\n",
              "      <td>http://www.flickr.com/photos/britishlibrary/ta...</td>\n",
              "    </tr>\n",
              "  </tbody>\n",
              "</table>\n",
              "</div>"
            ],
            "text/plain": [
              "   Identifier  ...                                         Flickr URL\n",
              "0         206  ...  http://www.flickr.com/photos/britishlibrary/ta...\n",
              "1         216  ...  http://www.flickr.com/photos/britishlibrary/ta...\n",
              "2         218  ...  http://www.flickr.com/photos/britishlibrary/ta...\n",
              "3         472  ...  http://www.flickr.com/photos/britishlibrary/ta...\n",
              "4         480  ...  http://www.flickr.com/photos/britishlibrary/ta...\n",
              "\n",
              "[5 rows x 7 columns]"
            ]
          },
          "metadata": {
            "tags": []
          },
          "execution_count": 15
        }
      ]
    },
    {
      "cell_type": "code",
      "metadata": {
        "id": "MwQ3qxJBVHTs",
        "outputId": "4f71b4ac-fe54-4977-d2e3-de8336c6b92d",
        "colab": {
          "base_uri": "https://localhost:8080/",
          "height": 255
        }
      },
      "source": [
        "df_flickr_book.info()"
      ],
      "execution_count": null,
      "outputs": [
        {
          "output_type": "stream",
          "text": [
            "<class 'pandas.core.frame.DataFrame'>\n",
            "RangeIndex: 8287 entries, 0 to 8286\n",
            "Data columns (total 7 columns):\n",
            " #   Column                Non-Null Count  Dtype \n",
            "---  ------                --------------  ----- \n",
            " 0   Identifier            8287 non-null   int64 \n",
            " 1   Place of Publication  8287 non-null   object\n",
            " 2   Date of Publication   8106 non-null   object\n",
            " 3   Publisher             4092 non-null   object\n",
            " 4   Title                 8287 non-null   object\n",
            " 5   Author                6509 non-null   object\n",
            " 6   Flickr URL            8287 non-null   object\n",
            "dtypes: int64(1), object(6)\n",
            "memory usage: 453.3+ KB\n"
          ],
          "name": "stdout"
        }
      ]
    },
    {
      "cell_type": "code",
      "metadata": {
        "id": "dkKjUKBAXJGi",
        "outputId": "3f164aa0-869e-4a87-c016-eb1d6070cd01",
        "colab": {
          "base_uri": "https://localhost:8080/",
          "height": 33
        }
      },
      "source": [
        "#verificando se existe um identificador único o dataset (chave)\n",
        "print(df_flickr_book['Identifier'].is_unique)"
      ],
      "execution_count": null,
      "outputs": [
        {
          "output_type": "stream",
          "text": [
            "True\n"
          ],
          "name": "stdout"
        }
      ]
    },
    {
      "cell_type": "code",
      "metadata": {
        "id": "1GKqZIOVaqsT",
        "outputId": "c1735973-be98-4b91-dac8-a2943a10d4b0",
        "colab": {
          "base_uri": "https://localhost:8080/",
          "height": 33
        }
      },
      "source": [
        "#contando a quantidade de valores nulos\n",
        "df_flickr_book['Identifier'].nunique()"
      ],
      "execution_count": null,
      "outputs": [
        {
          "output_type": "execute_result",
          "data": {
            "text/plain": [
              "8287"
            ]
          },
          "metadata": {
            "tags": []
          },
          "execution_count": 17
        }
      ]
    },
    {
      "cell_type": "code",
      "metadata": {
        "id": "t7pPhpuwawMv",
        "outputId": "663d366a-6c4f-4679-97f0-37398296bce3",
        "colab": {
          "base_uri": "https://localhost:8080/",
          "height": 200
        }
      },
      "source": [
        "# Seleciona as linhas que contém a data de publicação do indice 1905 até o final do arquivo\n",
        "df_flickr_book.loc[1905:, 'Date of Publication'].head(10) "
      ],
      "execution_count": null,
      "outputs": [
        {
          "output_type": "execute_result",
          "data": {
            "text/plain": [
              "1905         1879\n",
              "1906         1886\n",
              "1907         1844\n",
              "1908    1861-1909\n",
              "1909         1884\n",
              "1910         1885\n",
              "1911         1834\n",
              "1912         1837\n",
              "1913         1867\n",
              "1914         1830\n",
              "Name: Date of Publication, dtype: object"
            ]
          },
          "metadata": {
            "tags": []
          },
          "execution_count": 19
        }
      ]
    },
    {
      "cell_type": "code",
      "metadata": {
        "id": "BDaDM1HSbMu3"
      },
      "source": [
        "# Ttratando as datas de publicação de cada um dos livros através das expressões regulares\n",
        "expre_regular = r'^(\\d{4})' #define a expressão regular que deve ser utilizada para cada uma datas publicação (encontra o conjunto de 4 digitos)\n",
        "extr = df_flickr_book['Date of Publication'].str.extract(expre_regular, expand=False) #aplica o modelo de extração através da expressão regular definida"
      ],
      "execution_count": null,
      "outputs": []
    },
    {
      "cell_type": "code",
      "metadata": {
        "id": "8B1JF6QsdlEs",
        "outputId": "0f3c8b9d-4737-4a28-f6eb-ba240365c400",
        "colab": {
          "base_uri": "https://localhost:8080/",
          "height": 216
        }
      },
      "source": [
        "extr[1905:]"
      ],
      "execution_count": null,
      "outputs": [
        {
          "output_type": "execute_result",
          "data": {
            "text/plain": [
              "1905    1879\n",
              "1906    1886\n",
              "1907    1844\n",
              "1908    1861\n",
              "1909    1884\n",
              "        ... \n",
              "8282    1838\n",
              "8283    1831\n",
              "8284     NaN\n",
              "8285    1834\n",
              "8286    1834\n",
              "Name: Date of Publication, Length: 6382, dtype: object"
            ]
          },
          "metadata": {
            "tags": []
          },
          "execution_count": 21
        }
      ]
    },
    {
      "cell_type": "code",
      "metadata": {
        "id": "SAQnNeWFdw86"
      },
      "source": [
        "#aplicando ao dataset e convertendo para numérico\n",
        "df_flickr_book['Date of Publication']=pd.to_numeric(extr)"
      ],
      "execution_count": null,
      "outputs": []
    },
    {
      "cell_type": "code",
      "metadata": {
        "id": "NE8ARWSSeZfi",
        "outputId": "ac28cdfb-f2ba-4dbc-e21c-44eb3a1bb4a0",
        "colab": {
          "base_uri": "https://localhost:8080/",
          "height": 250
        }
      },
      "source": [
        "#verificando o dataset\n",
        "df_flickr_book.info()"
      ],
      "execution_count": null,
      "outputs": [
        {
          "output_type": "stream",
          "text": [
            "<class 'pandas.core.frame.DataFrame'>\n",
            "RangeIndex: 8287 entries, 0 to 8286\n",
            "Data columns (total 7 columns):\n",
            " #   Column                Non-Null Count  Dtype  \n",
            "---  ------                --------------  -----  \n",
            " 0   Identifier            8287 non-null   int64  \n",
            " 1   Place of Publication  8287 non-null   object \n",
            " 2   Date of Publication   7316 non-null   float64\n",
            " 3   Publisher             4092 non-null   object \n",
            " 4   Title                 8287 non-null   object \n",
            " 5   Author                6509 non-null   object \n",
            " 6   Flickr URL            8287 non-null   object \n",
            "dtypes: float64(1), int64(1), object(5)\n",
            "memory usage: 453.3+ KB\n"
          ],
          "name": "stdout"
        }
      ]
    },
    {
      "cell_type": "code",
      "metadata": {
        "id": "cmOI_T6WecVh",
        "outputId": "e453b964-8cf8-446b-82ee-928e787d23db",
        "colab": {
          "base_uri": "https://localhost:8080/",
          "height": 33
        }
      },
      "source": [
        "#contando a quantidade de valores nulos existentes\n",
        "df_flickr_book['Date of Publication'].isnull().sum() # o isnull retorna uma serie com a resposta para a pergunta (isnull?)"
      ],
      "execution_count": null,
      "outputs": [
        {
          "output_type": "execute_result",
          "data": {
            "text/plain": [
              "971"
            ]
          },
          "metadata": {
            "tags": []
          },
          "execution_count": 24
        }
      ]
    },
    {
      "cell_type": "code",
      "metadata": {
        "id": "-CqnzK6pe6n4",
        "outputId": "2ceb38de-897e-4a7f-93f4-9ab22696d9f8",
        "colab": {
          "base_uri": "https://localhost:8080/",
          "height": 216
        }
      },
      "source": [
        "df_flickr_book['Date of Publication'].isnull()"
      ],
      "execution_count": null,
      "outputs": [
        {
          "output_type": "execute_result",
          "data": {
            "text/plain": [
              "0       False\n",
              "1       False\n",
              "2       False\n",
              "3       False\n",
              "4       False\n",
              "        ...  \n",
              "8281    False\n",
              "8282    False\n",
              "8283    False\n",
              "8285    False\n",
              "8286    False\n",
              "Name: Date of Publication, Length: 7316, dtype: bool"
            ]
          },
          "metadata": {
            "tags": []
          },
          "execution_count": 31
        }
      ]
    },
    {
      "cell_type": "code",
      "metadata": {
        "id": "JT768rLEfFuf"
      },
      "source": [
        "df_flickr_book.dropna(subset=['Date of Publication'], inplace=True) #elimina as linhas que possuem valores nulos\n",
        "df_flickr_book['Date of Publication']=df_flickr_book['Date of Publication'].astype(int) #transforma os float em int"
      ],
      "execution_count": null,
      "outputs": []
    },
    {
      "cell_type": "code",
      "metadata": {
        "id": "XwmevvrMfofD",
        "outputId": "4af514df-174c-4af3-e0d5-07c96f427296",
        "colab": {
          "base_uri": "https://localhost:8080/",
          "height": 250
        }
      },
      "source": [
        "df_flickr_book.info()"
      ],
      "execution_count": null,
      "outputs": [
        {
          "output_type": "stream",
          "text": [
            "<class 'pandas.core.frame.DataFrame'>\n",
            "Int64Index: 7316 entries, 0 to 8286\n",
            "Data columns (total 7 columns):\n",
            " #   Column                Non-Null Count  Dtype \n",
            "---  ------                --------------  ----- \n",
            " 0   Identifier            7316 non-null   int64 \n",
            " 1   Place of Publication  7316 non-null   object\n",
            " 2   Date of Publication   7316 non-null   int64 \n",
            " 3   Publisher             3576 non-null   object\n",
            " 4   Title                 7316 non-null   object\n",
            " 5   Author                5782 non-null   object\n",
            " 6   Flickr URL            7316 non-null   object\n",
            "dtypes: int64(2), object(5)\n",
            "memory usage: 457.2+ KB\n"
          ],
          "name": "stdout"
        }
      ]
    },
    {
      "cell_type": "code",
      "metadata": {
        "id": "MTPTNDmdfxoe",
        "outputId": "51fa2ef7-cb6b-4259-d559-bb43e394d433",
        "colab": {
          "base_uri": "https://localhost:8080/",
          "height": 200
        }
      },
      "source": [
        "#identificando os locais da publicação dos livros(Especificos)\n",
        "df_flickr_book['Place of Publication'].head(10)"
      ],
      "execution_count": null,
      "outputs": [
        {
          "output_type": "execute_result",
          "data": {
            "text/plain": [
              "0                       London\n",
              "1     London; Virtue & Yorston\n",
              "2                       London\n",
              "3                       London\n",
              "4                       London\n",
              "5                       London\n",
              "6                       London\n",
              "8                      London]\n",
              "9                       London\n",
              "10                    Coventry\n",
              "Name: Place of Publication, dtype: object"
            ]
          },
          "metadata": {
            "tags": []
          },
          "execution_count": 34
        }
      ]
    },
    {
      "cell_type": "code",
      "metadata": {
        "id": "b_ZQhWK3gpUM",
        "outputId": "782807eb-beea-4f43-f3d2-c5380d6589d7",
        "colab": {
          "base_uri": "https://localhost:8080/",
          "height": 200
        }
      },
      "source": [
        "#identificando os locais que possuem a cidade de Londres como local de publicação\n",
        "df_flickr_book['Place of Publication'].str.contains('London').head(10)"
      ],
      "execution_count": 35,
      "outputs": [
        {
          "output_type": "execute_result",
          "data": {
            "text/plain": [
              "0      True\n",
              "1      True\n",
              "2      True\n",
              "3      True\n",
              "4      True\n",
              "5      True\n",
              "6      True\n",
              "8      True\n",
              "9      True\n",
              "10    False\n",
              "Name: Place of Publication, dtype: bool"
            ]
          },
          "metadata": {
            "tags": []
          },
          "execution_count": 35
        }
      ]
    },
    {
      "cell_type": "code",
      "metadata": {
        "id": "Q8GKiVJsg1_D"
      },
      "source": [
        "london = df_flickr_book['Place of Publication'].str.contains('London') #cria a serie que contém os valores True e False para a cidade de Londres\n",
        "oxford=df_flickr_book['Place of Publication'].str.contains('Oxford') #cria a serie que contém os valores True e False para a cidade de Oxford"
      ],
      "execution_count": null,
      "outputs": []
    },
    {
      "cell_type": "code",
      "metadata": {
        "id": "VPa4NFL_i3j5"
      },
      "source": [
        "df_flickr_book['Place of Publication']=np.where(london, 'London', np.where(oxford, 'Oxford', df_flickr_book['Place of Publication'].str.replace('-', ''))) #aplica o where para preencher cada uma das sentenças"
      ],
      "execution_count": null,
      "outputs": []
    },
    {
      "cell_type": "code",
      "metadata": {
        "id": "m9Zyhb14jc1-",
        "outputId": "d7e0673c-b30b-449f-ace9-7ff120effb11",
        "colab": {
          "base_uri": "https://localhost:8080/",
          "height": 204
        }
      },
      "source": [
        "df_flickr_book.head()"
      ],
      "execution_count": null,
      "outputs": [
        {
          "output_type": "execute_result",
          "data": {
            "text/html": [
              "<div>\n",
              "<style scoped>\n",
              "    .dataframe tbody tr th:only-of-type {\n",
              "        vertical-align: middle;\n",
              "    }\n",
              "\n",
              "    .dataframe tbody tr th {\n",
              "        vertical-align: top;\n",
              "    }\n",
              "\n",
              "    .dataframe thead th {\n",
              "        text-align: right;\n",
              "    }\n",
              "</style>\n",
              "<table border=\"1\" class=\"dataframe\">\n",
              "  <thead>\n",
              "    <tr style=\"text-align: right;\">\n",
              "      <th></th>\n",
              "      <th>Identifier</th>\n",
              "      <th>Place of Publication</th>\n",
              "      <th>Date of Publication</th>\n",
              "      <th>Publisher</th>\n",
              "      <th>Title</th>\n",
              "      <th>Author</th>\n",
              "      <th>Flickr URL</th>\n",
              "    </tr>\n",
              "  </thead>\n",
              "  <tbody>\n",
              "    <tr>\n",
              "      <th>0</th>\n",
              "      <td>206</td>\n",
              "      <td>London</td>\n",
              "      <td>1879</td>\n",
              "      <td>S. Tinsley &amp; Co.</td>\n",
              "      <td>Walter Forbes. [A novel.] By A. A</td>\n",
              "      <td>A. A.</td>\n",
              "      <td>http://www.flickr.com/photos/britishlibrary/ta...</td>\n",
              "    </tr>\n",
              "    <tr>\n",
              "      <th>1</th>\n",
              "      <td>216</td>\n",
              "      <td>London</td>\n",
              "      <td>1868</td>\n",
              "      <td>Virtue &amp; Co.</td>\n",
              "      <td>All for Greed. [A novel. The dedication signed...</td>\n",
              "      <td>A., A. A.</td>\n",
              "      <td>http://www.flickr.com/photos/britishlibrary/ta...</td>\n",
              "    </tr>\n",
              "    <tr>\n",
              "      <th>2</th>\n",
              "      <td>218</td>\n",
              "      <td>London</td>\n",
              "      <td>1869</td>\n",
              "      <td>Bradbury, Evans &amp; Co.</td>\n",
              "      <td>Love the Avenger. By the author of “All for Gr...</td>\n",
              "      <td>A., A. A.</td>\n",
              "      <td>http://www.flickr.com/photos/britishlibrary/ta...</td>\n",
              "    </tr>\n",
              "    <tr>\n",
              "      <th>3</th>\n",
              "      <td>472</td>\n",
              "      <td>London</td>\n",
              "      <td>1851</td>\n",
              "      <td>James Darling</td>\n",
              "      <td>Welsh Sketches, chiefly ecclesiastical, to the...</td>\n",
              "      <td>A., E. S.</td>\n",
              "      <td>http://www.flickr.com/photos/britishlibrary/ta...</td>\n",
              "    </tr>\n",
              "    <tr>\n",
              "      <th>4</th>\n",
              "      <td>480</td>\n",
              "      <td>London</td>\n",
              "      <td>1857</td>\n",
              "      <td>Wertheim &amp; Macintosh</td>\n",
              "      <td>[The World in which I live, and my place in it...</td>\n",
              "      <td>A., E. S.</td>\n",
              "      <td>http://www.flickr.com/photos/britishlibrary/ta...</td>\n",
              "    </tr>\n",
              "  </tbody>\n",
              "</table>\n",
              "</div>"
            ],
            "text/plain": [
              "   Identifier  ...                                         Flickr URL\n",
              "0         206  ...  http://www.flickr.com/photos/britishlibrary/ta...\n",
              "1         216  ...  http://www.flickr.com/photos/britishlibrary/ta...\n",
              "2         218  ...  http://www.flickr.com/photos/britishlibrary/ta...\n",
              "3         472  ...  http://www.flickr.com/photos/britishlibrary/ta...\n",
              "4         480  ...  http://www.flickr.com/photos/britishlibrary/ta...\n",
              "\n",
              "[5 rows x 7 columns]"
            ]
          },
          "metadata": {
            "tags": []
          },
          "execution_count": 42
        }
      ]
    },
    {
      "cell_type": "code",
      "metadata": {
        "id": "FIBsNSkOjeiG"
      },
      "source": [
        ""
      ],
      "execution_count": null,
      "outputs": []
    }
  ]
}