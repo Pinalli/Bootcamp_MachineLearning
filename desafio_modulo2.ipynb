{
  "nbformat": 4,
  "nbformat_minor": 0,
  "metadata": {
    "colab": {
      "name": "desafio_modulo2.ipynb",
      "provenance": [],
      "collapsed_sections": [],
      "include_colab_link": true
    },
    "kernelspec": {
      "name": "python3",
      "display_name": "Python 3"
    }
  },
  "cells": [
    {
      "cell_type": "markdown",
      "metadata": {
        "id": "view-in-github",
        "colab_type": "text"
      },
      "source": [
        "<a href=\"https://colab.research.google.com/github/Pinalli/Bootcamp_MachineLearning/blob/master/desafio_modulo2.ipynb\" target=\"_parent\"><img src=\"https://colab.research.google.com/assets/colab-badge.svg\" alt=\"Open In Colab\"/></a>"
      ]
    },
    {
      "cell_type": "markdown",
      "metadata": {
        "id": "uHHaEH6CCIJN"
      },
      "source": [
        "# Desafio - Módulo 2"
      ]
    },
    {
      "cell_type": "markdown",
      "metadata": {
        "id": "54O-hkFdCRYJ"
      },
      "source": [
        "## Atividades (Enunciado)\n",
        "\n",
        "Os alunos deverão desempenhar as seguintes atividades:]\n",
        "\n",
        "### 1. Acessar o ambiente Google Colaboratory (recomendado) ou qualquer ambiente  de desenvolvimento em Python.\n"
      ]
    },
    {
      "cell_type": "code",
      "metadata": {
        "id": "Azw6aSkb1JS-"
      },
      "source": [
        "import numpy as np\n",
        "import pandas as pd\n",
        "import matplotlib.pyplot as plt\n",
        "import seaborn as sns"
      ],
      "execution_count": 1,
      "outputs": []
    },
    {
      "cell_type": "markdown",
      "metadata": {
        "id": "Po83Y5WCCz3p"
      },
      "source": [
        "### 2. Carregar o dataset https://pycourse.s3.amazonaws.com/banknote_authentication.txt para análise utilizando o pandas. Exemplo:"
      ]
    },
    {
      "cell_type": "code",
      "metadata": {
        "id": "2hCFGgKb2ImO"
      },
      "source": [
        "df = pd.read_csv('https://pycourse.s3.amazonaws.com/banknote_authentication.txt', header=None, names=['variance', 'skewness', 'curtosis', 'entropy', 'class'])"
      ],
      "execution_count": null,
      "outputs": []
    },
    {
      "cell_type": "code",
      "metadata": {
        "id": "w7Uehtqe2bRd",
        "outputId": "b2c87ba0-8a49-486d-e835-0bcbc9b6048d",
        "colab": {
          "base_uri": "https://localhost:8080/",
          "height": 204
        }
      },
      "source": [
        "# Amostra do dataframe\n",
        "df.head()"
      ],
      "execution_count": null,
      "outputs": [
        {
          "output_type": "execute_result",
          "data": {
            "text/html": [
              "<div>\n",
              "<style scoped>\n",
              "    .dataframe tbody tr th:only-of-type {\n",
              "        vertical-align: middle;\n",
              "    }\n",
              "\n",
              "    .dataframe tbody tr th {\n",
              "        vertical-align: top;\n",
              "    }\n",
              "\n",
              "    .dataframe thead th {\n",
              "        text-align: right;\n",
              "    }\n",
              "</style>\n",
              "<table border=\"1\" class=\"dataframe\">\n",
              "  <thead>\n",
              "    <tr style=\"text-align: right;\">\n",
              "      <th></th>\n",
              "      <th>variance</th>\n",
              "      <th>skewness</th>\n",
              "      <th>curtosis</th>\n",
              "      <th>entropy</th>\n",
              "      <th>class</th>\n",
              "    </tr>\n",
              "  </thead>\n",
              "  <tbody>\n",
              "    <tr>\n",
              "      <th>0</th>\n",
              "      <td>3.62160</td>\n",
              "      <td>8.6661</td>\n",
              "      <td>-2.8073</td>\n",
              "      <td>-0.44699</td>\n",
              "      <td>0</td>\n",
              "    </tr>\n",
              "    <tr>\n",
              "      <th>1</th>\n",
              "      <td>4.54590</td>\n",
              "      <td>8.1674</td>\n",
              "      <td>-2.4586</td>\n",
              "      <td>-1.46210</td>\n",
              "      <td>0</td>\n",
              "    </tr>\n",
              "    <tr>\n",
              "      <th>2</th>\n",
              "      <td>3.86600</td>\n",
              "      <td>-2.6383</td>\n",
              "      <td>1.9242</td>\n",
              "      <td>0.10645</td>\n",
              "      <td>0</td>\n",
              "    </tr>\n",
              "    <tr>\n",
              "      <th>3</th>\n",
              "      <td>3.45660</td>\n",
              "      <td>9.5228</td>\n",
              "      <td>-4.0112</td>\n",
              "      <td>-3.59440</td>\n",
              "      <td>0</td>\n",
              "    </tr>\n",
              "    <tr>\n",
              "      <th>4</th>\n",
              "      <td>0.32924</td>\n",
              "      <td>-4.4552</td>\n",
              "      <td>4.5718</td>\n",
              "      <td>-0.98880</td>\n",
              "      <td>0</td>\n",
              "    </tr>\n",
              "  </tbody>\n",
              "</table>\n",
              "</div>"
            ],
            "text/plain": [
              "   variance  skewness  curtosis  entropy  class\n",
              "0   3.62160    8.6661   -2.8073 -0.44699      0\n",
              "1   4.54590    8.1674   -2.4586 -1.46210      0\n",
              "2   3.86600   -2.6383    1.9242  0.10645      0\n",
              "3   3.45660    9.5228   -4.0112 -3.59440      0\n",
              "4   0.32924   -4.4552    4.5718 -0.98880      0"
            ]
          },
          "metadata": {
            "tags": []
          },
          "execution_count": 3
        }
      ]
    },
    {
      "cell_type": "code",
      "metadata": {
        "id": "J7_1TtWvHQb8",
        "outputId": "5f83695b-28d9-4c27-f388-eff3be7638af",
        "colab": {
          "base_uri": "https://localhost:8080/",
          "height": 34
        }
      },
      "source": [
        "# Dimensões (linhas x colunas) do dataframe\n",
        "df.shape"
      ],
      "execution_count": null,
      "outputs": [
        {
          "output_type": "execute_result",
          "data": {
            "text/plain": [
              "(1372, 5)"
            ]
          },
          "metadata": {
            "tags": []
          },
          "execution_count": 4
        }
      ]
    },
    {
      "cell_type": "code",
      "metadata": {
        "id": "j3nxSMvWEkfh",
        "outputId": "37ce4977-3680-4d58-e6e1-83c820ade041",
        "colab": {
          "base_uri": "https://localhost:8080/",
          "height": 221
        }
      },
      "source": [
        "# Informações das variáveis do dataframe (nomes, quantidades não nulas, tipos inferidos)\n",
        "df.info()"
      ],
      "execution_count": null,
      "outputs": [
        {
          "output_type": "stream",
          "text": [
            "<class 'pandas.core.frame.DataFrame'>\n",
            "RangeIndex: 1372 entries, 0 to 1371\n",
            "Data columns (total 5 columns):\n",
            " #   Column    Non-Null Count  Dtype  \n",
            "---  ------    --------------  -----  \n",
            " 0   variance  1372 non-null   float64\n",
            " 1   skewness  1372 non-null   float64\n",
            " 2   curtosis  1372 non-null   float64\n",
            " 3   entropy   1372 non-null   float64\n",
            " 4   class     1372 non-null   int64  \n",
            "dtypes: float64(4), int64(1)\n",
            "memory usage: 53.7 KB\n"
          ],
          "name": "stdout"
        }
      ]
    },
    {
      "cell_type": "code",
      "metadata": {
        "id": "NJbJf_Np5tnb",
        "outputId": "ff56ddfa-6158-4451-a235-06b2eb1692b2",
        "colab": {
          "base_uri": "https://localhost:8080/",
          "height": 297
        }
      },
      "source": [
        "# Estatísticas básicas das variáveis numéricas do dataframe\n",
        "df.describe()"
      ],
      "execution_count": null,
      "outputs": [
        {
          "output_type": "execute_result",
          "data": {
            "text/html": [
              "<div>\n",
              "<style scoped>\n",
              "    .dataframe tbody tr th:only-of-type {\n",
              "        vertical-align: middle;\n",
              "    }\n",
              "\n",
              "    .dataframe tbody tr th {\n",
              "        vertical-align: top;\n",
              "    }\n",
              "\n",
              "    .dataframe thead th {\n",
              "        text-align: right;\n",
              "    }\n",
              "</style>\n",
              "<table border=\"1\" class=\"dataframe\">\n",
              "  <thead>\n",
              "    <tr style=\"text-align: right;\">\n",
              "      <th></th>\n",
              "      <th>variance</th>\n",
              "      <th>skewness</th>\n",
              "      <th>curtosis</th>\n",
              "      <th>entropy</th>\n",
              "      <th>class</th>\n",
              "    </tr>\n",
              "  </thead>\n",
              "  <tbody>\n",
              "    <tr>\n",
              "      <th>count</th>\n",
              "      <td>1372.000000</td>\n",
              "      <td>1372.000000</td>\n",
              "      <td>1372.000000</td>\n",
              "      <td>1372.000000</td>\n",
              "      <td>1372.000000</td>\n",
              "    </tr>\n",
              "    <tr>\n",
              "      <th>mean</th>\n",
              "      <td>0.433735</td>\n",
              "      <td>1.922353</td>\n",
              "      <td>1.397627</td>\n",
              "      <td>-1.191657</td>\n",
              "      <td>0.444606</td>\n",
              "    </tr>\n",
              "    <tr>\n",
              "      <th>std</th>\n",
              "      <td>2.842763</td>\n",
              "      <td>5.869047</td>\n",
              "      <td>4.310030</td>\n",
              "      <td>2.101013</td>\n",
              "      <td>0.497103</td>\n",
              "    </tr>\n",
              "    <tr>\n",
              "      <th>min</th>\n",
              "      <td>-7.042100</td>\n",
              "      <td>-13.773100</td>\n",
              "      <td>-5.286100</td>\n",
              "      <td>-8.548200</td>\n",
              "      <td>0.000000</td>\n",
              "    </tr>\n",
              "    <tr>\n",
              "      <th>25%</th>\n",
              "      <td>-1.773000</td>\n",
              "      <td>-1.708200</td>\n",
              "      <td>-1.574975</td>\n",
              "      <td>-2.413450</td>\n",
              "      <td>0.000000</td>\n",
              "    </tr>\n",
              "    <tr>\n",
              "      <th>50%</th>\n",
              "      <td>0.496180</td>\n",
              "      <td>2.319650</td>\n",
              "      <td>0.616630</td>\n",
              "      <td>-0.586650</td>\n",
              "      <td>0.000000</td>\n",
              "    </tr>\n",
              "    <tr>\n",
              "      <th>75%</th>\n",
              "      <td>2.821475</td>\n",
              "      <td>6.814625</td>\n",
              "      <td>3.179250</td>\n",
              "      <td>0.394810</td>\n",
              "      <td>1.000000</td>\n",
              "    </tr>\n",
              "    <tr>\n",
              "      <th>max</th>\n",
              "      <td>6.824800</td>\n",
              "      <td>12.951600</td>\n",
              "      <td>17.927400</td>\n",
              "      <td>2.449500</td>\n",
              "      <td>1.000000</td>\n",
              "    </tr>\n",
              "  </tbody>\n",
              "</table>\n",
              "</div>"
            ],
            "text/plain": [
              "          variance     skewness     curtosis      entropy        class\n",
              "count  1372.000000  1372.000000  1372.000000  1372.000000  1372.000000\n",
              "mean      0.433735     1.922353     1.397627    -1.191657     0.444606\n",
              "std       2.842763     5.869047     4.310030     2.101013     0.497103\n",
              "min      -7.042100   -13.773100    -5.286100    -8.548200     0.000000\n",
              "25%      -1.773000    -1.708200    -1.574975    -2.413450     0.000000\n",
              "50%       0.496180     2.319650     0.616630    -0.586650     0.000000\n",
              "75%       2.821475     6.814625     3.179250     0.394810     1.000000\n",
              "max       6.824800    12.951600    17.927400     2.449500     1.000000"
            ]
          },
          "metadata": {
            "tags": []
          },
          "execution_count": 6
        }
      ]
    },
    {
      "cell_type": "markdown",
      "metadata": {
        "id": "h3XBXFEzDPbQ"
      },
      "source": [
        "### 4. Utilize a variável “class” como saída e as demais como entrada dos modelos."
      ]
    },
    {
      "cell_type": "code",
      "metadata": {
        "id": "5YQLPUdE2tWH"
      },
      "source": [
        "X = df.iloc[:, :-1].values\n",
        "y = df.iloc[:, 4].values"
      ],
      "execution_count": null,
      "outputs": []
    },
    {
      "cell_type": "markdown",
      "metadata": {
        "id": "fKPCmqX3C9Ug"
      },
      "source": [
        "### 3. Divida o dataset utilizando a função train_test_split, conforme:\n",
        "\n",
        "a. Conjunto de treino (70%);\n",
        "\n",
        "b. Conjunto de teste (30%);\n",
        "\n",
        "c. random_state=1."
      ]
    },
    {
      "cell_type": "code",
      "metadata": {
        "id": "Uyae5xqy2cMw"
      },
      "source": [
        "from sklearn.model_selection import train_test_split\n",
        "X_train, X_test, y_train, y_test = train_test_split(X, y, test_size=0.3, random_state=1)"
      ],
      "execution_count": null,
      "outputs": []
    },
    {
      "cell_type": "markdown",
      "metadata": {
        "id": "mBQAUTOoDLBy"
      },
      "source": [
        "### 5. Para implementação dos algoritmos, utilize as seguintes definições (do sklearn):"
      ]
    },
    {
      "cell_type": "markdown",
      "metadata": {
        "id": "4RDozODdDhbb"
      },
      "source": [
        "a. Algoritmo KNN:"
      ]
    },
    {
      "cell_type": "code",
      "metadata": {
        "id": "mOmILL2Z4V7l"
      },
      "source": [
        "from sklearn.neighbors import KNeighborsClassifier\n",
        "clf_KNN = KNeighborsClassifier(n_neighbors=5)"
      ],
      "execution_count": null,
      "outputs": []
    },
    {
      "cell_type": "markdown",
      "metadata": {
        "id": "aVxarJKUDlj4"
      },
      "source": [
        "b. Algoritmo Árvore de Decisão (Decision Tree):"
      ]
    },
    {
      "cell_type": "code",
      "metadata": {
        "id": "cxYAL4k34h_Q"
      },
      "source": [
        "from sklearn.tree import DecisionTreeClassifier\n",
        "clf_arvore = DecisionTreeClassifier(random_state=1)"
      ],
      "execution_count": null,
      "outputs": []
    },
    {
      "cell_type": "markdown",
      "metadata": {
        "id": "UKli1qKPDpA6"
      },
      "source": [
        "c. Algoritmo Floresta Aleatória (Random Forest):"
      ]
    },
    {
      "cell_type": "code",
      "metadata": {
        "id": "IhdZejLH4pwO"
      },
      "source": [
        "from sklearn.ensemble import RandomForestClassifier\n",
        "clf_floresta = RandomForestClassifier(max_depth=8, random_state=1)"
      ],
      "execution_count": null,
      "outputs": []
    },
    {
      "cell_type": "markdown",
      "metadata": {
        "id": "CrSrgOlDDrcn"
      },
      "source": [
        "d. Algoritmo SVM:"
      ]
    },
    {
      "cell_type": "code",
      "metadata": {
        "id": "YlcyDTEx4xIu"
      },
      "source": [
        "from sklearn.svm import SVC\n",
        "clf_svm = SVC(gamma='auto', kernel='rbf', random_state=1)"
      ],
      "execution_count": null,
      "outputs": []
    },
    {
      "cell_type": "markdown",
      "metadata": {
        "id": "SOHiox2XEHP2"
      },
      "source": [
        "e. Algoritmo Rede MLP:"
      ]
    },
    {
      "cell_type": "code",
      "metadata": {
        "id": "rD7zRhwQ49dV"
      },
      "source": [
        "from sklearn.neural_network import MLPClassifier\n",
        "clf_mlp = MLPClassifier(hidden_layer_sizes=(2,), solver='lbfgs', random_state=1)"
      ],
      "execution_count": null,
      "outputs": []
    },
    {
      "cell_type": "markdown",
      "metadata": {
        "id": "smSKbkT3EKwa"
      },
      "source": [
        "## Pergunta 1\n",
        "\n",
        "Qual o tamanho desse dataset (número de linhas, número de colunas)?"
      ]
    },
    {
      "cell_type": "code",
      "metadata": {
        "id": "R6qCVfho5MXj",
        "outputId": "3a7ba962-0f7d-4b34-d7dd-2884d96b71c4",
        "colab": {
          "base_uri": "https://localhost:8080/",
          "height": 34
        }
      },
      "source": [
        "df.shape"
      ],
      "execution_count": null,
      "outputs": [
        {
          "output_type": "execute_result",
          "data": {
            "text/plain": [
              "(1372, 5)"
            ]
          },
          "metadata": {
            "tags": []
          },
          "execution_count": 14
        }
      ]
    },
    {
      "cell_type": "markdown",
      "metadata": {
        "id": "bTPjdnseEVfF"
      },
      "source": [
        "## Pergunta 2\n",
        "\n",
        "Qual variável possui o maior range (diferença entre valor máximo e mínimo)?"
      ]
    },
    {
      "cell_type": "code",
      "metadata": {
        "id": "rZoC_g7m5ZxE",
        "outputId": "f4f7c6ab-1a3a-4c39-f907-b55430d75d37",
        "colab": {
          "base_uri": "https://localhost:8080/",
          "height": 51
        }
      },
      "source": [
        "ranges = df.max() - df.min()\n",
        "ranges.sort_values(ascending=False).head(1)"
      ],
      "execution_count": null,
      "outputs": [
        {
          "output_type": "execute_result",
          "data": {
            "text/plain": [
              "skewness    26.7247\n",
              "dtype: float64"
            ]
          },
          "metadata": {
            "tags": []
          },
          "execution_count": 15
        }
      ]
    },
    {
      "cell_type": "markdown",
      "metadata": {
        "id": "mBwOrf2uEuN7"
      },
      "source": [
        "## Pergunta 3\n",
        "\n",
        "Qual a média da coluna skewness?"
      ]
    },
    {
      "cell_type": "code",
      "metadata": {
        "id": "ry4ahztm5q1O",
        "outputId": "ae32872f-7157-4da8-dac8-7a27255e86e5",
        "colab": {
          "base_uri": "https://localhost:8080/",
          "height": 34
        }
      },
      "source": [
        "df['skewness'].mean()"
      ],
      "execution_count": null,
      "outputs": [
        {
          "output_type": "execute_result",
          "data": {
            "text/plain": [
              "1.9223531206393603"
            ]
          },
          "metadata": {
            "tags": []
          },
          "execution_count": 16
        }
      ]
    },
    {
      "cell_type": "markdown",
      "metadata": {
        "id": "icoF7K13EzHh"
      },
      "source": [
        "## Pergunta 4\n",
        "\n",
        "Qual a média da coluna entropy?"
      ]
    },
    {
      "cell_type": "code",
      "metadata": {
        "id": "L9KQ6GbV6muz",
        "outputId": "fcf91118-0067-49c2-ba4a-afc66d057829",
        "colab": {
          "base_uri": "https://localhost:8080/",
          "height": 34
        }
      },
      "source": [
        "df['entropy'].mean()"
      ],
      "execution_count": null,
      "outputs": [
        {
          "output_type": "execute_result",
          "data": {
            "text/plain": [
              "-1.191656520043731"
            ]
          },
          "metadata": {
            "tags": []
          },
          "execution_count": 17
        }
      ]
    },
    {
      "cell_type": "markdown",
      "metadata": {
        "id": "Srt_lwrlE2f6"
      },
      "source": [
        "## Pergunta 5\n",
        "\n",
        "Qual a mediana da coluna variance?"
      ]
    },
    {
      "cell_type": "code",
      "metadata": {
        "id": "wfacqjjh6sj9",
        "outputId": "5b812c29-cc9b-4da2-a187-b6528970adba",
        "colab": {
          "base_uri": "https://localhost:8080/",
          "height": 34
        }
      },
      "source": [
        "df['variance'].median()"
      ],
      "execution_count": null,
      "outputs": [
        {
          "output_type": "execute_result",
          "data": {
            "text/plain": [
              "0.49618"
            ]
          },
          "metadata": {
            "tags": []
          },
          "execution_count": 18
        }
      ]
    },
    {
      "cell_type": "markdown",
      "metadata": {
        "id": "llB0-vWVE6nx"
      },
      "source": [
        "## Pergunta 6\n",
        "\n",
        "Qual a desvio padrão da coluna curtosis?"
      ]
    },
    {
      "cell_type": "code",
      "metadata": {
        "id": "wpeP-xLZ6znV",
        "outputId": "bb64a88e-f3b1-4af4-9ef5-63dd0478204c",
        "colab": {
          "base_uri": "https://localhost:8080/",
          "height": 34
        }
      },
      "source": [
        "df['curtosis'].std()"
      ],
      "execution_count": null,
      "outputs": [
        {
          "output_type": "execute_result",
          "data": {
            "text/plain": [
              "4.310030090106595"
            ]
          },
          "metadata": {
            "tags": []
          },
          "execution_count": 19
        }
      ]
    },
    {
      "cell_type": "markdown",
      "metadata": {
        "id": "Tq2T8a7XE-GB"
      },
      "source": [
        "## Pergunta 7\n",
        "\n",
        "Qual a porcentagem de exemplos do dataset que são cédulas falsas (class=1)?"
      ]
    },
    {
      "cell_type": "code",
      "metadata": {
        "id": "fN0I4QNg65w8",
        "outputId": "58a71da6-f24a-4c0d-e279-e9b868106e02",
        "colab": {
          "base_uri": "https://localhost:8080/",
          "height": 34
        }
      },
      "source": [
        "quantidade_falsas = (df['class'] == 1).sum()\n",
        "quantidade_total = df.shape[0]\n",
        "\n",
        "quantidade_falsas / quantidade_total * 100"
      ],
      "execution_count": null,
      "outputs": [
        {
          "output_type": "execute_result",
          "data": {
            "text/plain": [
              "44.460641399416915"
            ]
          },
          "metadata": {
            "tags": []
          },
          "execution_count": 20
        }
      ]
    },
    {
      "cell_type": "markdown",
      "metadata": {
        "id": "NtgUkXATFDNS"
      },
      "source": [
        "## Pergunta 8\n",
        "\n",
        "Qual o valor da correlação de Pearson entre as variáveis skewness e curtosis?"
      ]
    },
    {
      "cell_type": "code",
      "metadata": {
        "id": "psWWkmOx7HlQ",
        "outputId": "4ab4e5f8-a22d-4663-c47a-a7bc6396a935",
        "colab": {
          "base_uri": "https://localhost:8080/",
          "height": 34
        }
      },
      "source": [
        "df[['skewness', 'curtosis']].corr().iloc[0,1]"
      ],
      "execution_count": null,
      "outputs": [
        {
          "output_type": "execute_result",
          "data": {
            "text/plain": [
              "-0.786895224306578"
            ]
          },
          "metadata": {
            "tags": []
          },
          "execution_count": 21
        }
      ]
    },
    {
      "cell_type": "markdown",
      "metadata": {
        "id": "JjkXS3wuFnu3"
      },
      "source": [
        "## Pergunta 9\n",
        "\n",
        "Qual a acurácia do KNN no conjunto de teste?"
      ]
    },
    {
      "cell_type": "code",
      "metadata": {
        "id": "xjgrd9LU72-Y"
      },
      "source": [
        "clf_KNN.fit(X_train, y_train)\n",
        "y_pred_KNN = clf_KNN.predict(X_test)"
      ],
      "execution_count": null,
      "outputs": []
    },
    {
      "cell_type": "code",
      "metadata": {
        "id": "FbTodoJX8Uhp",
        "outputId": "3a50d84f-0043-4512-c89c-df8bee975698",
        "colab": {
          "base_uri": "https://localhost:8080/",
          "height": 34
        }
      },
      "source": [
        "from sklearn.metrics import accuracy_score\n",
        "accuracy_score(y_test, y_pred_KNN)"
      ],
      "execution_count": null,
      "outputs": [
        {
          "output_type": "execute_result",
          "data": {
            "text/plain": [
              "0.9975728155339806"
            ]
          },
          "metadata": {
            "tags": []
          },
          "execution_count": 23
        }
      ]
    },
    {
      "cell_type": "markdown",
      "metadata": {
        "id": "l6SGmHkBFsJU"
      },
      "source": [
        "## Pergunta 10\n",
        "\n",
        "Qual a acurácia da Árvore de Decisão no conjunto de teste?"
      ]
    },
    {
      "cell_type": "code",
      "metadata": {
        "id": "BymHsgA382N4"
      },
      "source": [
        "clf_arvore.fit(X_train, y_train)\n",
        "y_pred_arvore = clf_arvore.predict(X_test)"
      ],
      "execution_count": null,
      "outputs": []
    },
    {
      "cell_type": "code",
      "metadata": {
        "id": "zOxfczhL9ODn",
        "outputId": "363353fa-54bb-4bfd-f994-dce02c382f5d",
        "colab": {
          "base_uri": "https://localhost:8080/",
          "height": 34
        }
      },
      "source": [
        "from sklearn.metrics import accuracy_score\n",
        "accuracy_score(y_test, y_pred_arvore)"
      ],
      "execution_count": null,
      "outputs": [
        {
          "output_type": "execute_result",
          "data": {
            "text/plain": [
              "0.9878640776699029"
            ]
          },
          "metadata": {
            "tags": []
          },
          "execution_count": 25
        }
      ]
    },
    {
      "cell_type": "markdown",
      "metadata": {
        "id": "W7tviFAPFvOs"
      },
      "source": [
        "## Pergunta 11\n",
        "\n",
        "Qual a acurácia do Random Forest no conjunto de teste?"
      ]
    },
    {
      "cell_type": "code",
      "metadata": {
        "id": "liDDBbba9VYX"
      },
      "source": [
        "clf_floresta.fit(X_train, y_train)\n",
        "y_pred_floresta = clf_floresta.predict(X_test)"
      ],
      "execution_count": null,
      "outputs": []
    },
    {
      "cell_type": "code",
      "metadata": {
        "id": "yZ9RzGrL9pZd",
        "outputId": "01caaf96-d603-4d30-daf6-399afece3fa0",
        "colab": {
          "base_uri": "https://localhost:8080/",
          "height": 34
        }
      },
      "source": [
        "from sklearn.metrics import accuracy_score\n",
        "accuracy_score(y_test, y_pred_floresta)"
      ],
      "execution_count": null,
      "outputs": [
        {
          "output_type": "execute_result",
          "data": {
            "text/plain": [
              "0.9951456310679612"
            ]
          },
          "metadata": {
            "tags": []
          },
          "execution_count": 27
        }
      ]
    },
    {
      "cell_type": "markdown",
      "metadata": {
        "id": "qeALgi4wFy6B"
      },
      "source": [
        "## Pergunta 12\n",
        "\n",
        "Analisando o valor da importância relativa das features do Random Forest (atributo feature_importances_), qual feature melhor contribuiu para a predição de class?"
      ]
    },
    {
      "cell_type": "code",
      "metadata": {
        "id": "nhexYeo39sFO",
        "outputId": "1dc95316-3f65-4e34-f67a-bad7e9348dd1",
        "colab": {
          "base_uri": "https://localhost:8080/",
          "height": 35
        }
      },
      "source": [
        "index_max = clf_floresta.feature_importances_.argmax()\n",
        "df.columns[index_max]"
      ],
      "execution_count": null,
      "outputs": [
        {
          "output_type": "execute_result",
          "data": {
            "application/vnd.google.colaboratory.intrinsic+json": {
              "type": "string"
            },
            "text/plain": [
              "'variance'"
            ]
          },
          "metadata": {
            "tags": []
          },
          "execution_count": 28
        }
      ]
    },
    {
      "cell_type": "markdown",
      "metadata": {
        "id": "-F1o-IsoF_Kn"
      },
      "source": [
        "## Pergunta 13\n",
        "\n",
        "Qual o valor da importância relativa da feature skewness?"
      ]
    },
    {
      "cell_type": "code",
      "metadata": {
        "id": "9wuf-Con9yuS",
        "outputId": "711f3ce0-536c-4293-d5d7-55468e8858c3",
        "colab": {
          "base_uri": "https://localhost:8080/",
          "height": 34
        }
      },
      "source": [
        "index_skewness = (df.columns == 'skewness').argmax()\n",
        "clf_floresta.feature_importances_[index_skewness]"
      ],
      "execution_count": null,
      "outputs": [
        {
          "output_type": "execute_result",
          "data": {
            "text/plain": [
              "0.24058588894949182"
            ]
          },
          "metadata": {
            "tags": []
          },
          "execution_count": 29
        }
      ]
    },
    {
      "cell_type": "markdown",
      "metadata": {
        "id": "lBEdViQpGM2W"
      },
      "source": [
        "## Pergunta 14\n",
        "\n",
        "Qual a acurácia do SVM no conjunto de teste?"
      ]
    },
    {
      "cell_type": "code",
      "metadata": {
        "id": "h09fJCFk-aby"
      },
      "source": [
        "clf_svm.fit(X_train, y_train)\n",
        "y_pred_svm = clf_svm.predict(X_test)"
      ],
      "execution_count": null,
      "outputs": []
    },
    {
      "cell_type": "code",
      "metadata": {
        "id": "L3emNveL_p9v",
        "outputId": "26ecde58-5d6c-433b-f548-264784209844",
        "colab": {
          "base_uri": "https://localhost:8080/",
          "height": 34
        }
      },
      "source": [
        "from sklearn.metrics import accuracy_score\n",
        "accuracy_score(y_test, y_pred_svm)"
      ],
      "execution_count": null,
      "outputs": [
        {
          "output_type": "execute_result",
          "data": {
            "text/plain": [
              "1.0"
            ]
          },
          "metadata": {
            "tags": []
          },
          "execution_count": 31
        }
      ]
    },
    {
      "cell_type": "markdown",
      "metadata": {
        "id": "vsjUcqYDGQcz"
      },
      "source": [
        "## Pergunta 15\n",
        "\n",
        "Qual a acurácia da rede MLP no conjunto de teste?"
      ]
    },
    {
      "cell_type": "code",
      "metadata": {
        "id": "zyY30OY7AS6I"
      },
      "source": [
        "clf_mlp.fit(X_train, y_train)\n",
        "y_pred_mlp = clf_mlp.predict(X_test)"
      ],
      "execution_count": null,
      "outputs": []
    },
    {
      "cell_type": "code",
      "metadata": {
        "id": "-eSmyjBUAdyx",
        "outputId": "3a1b87ad-de44-4dc3-b5e9-e8ff3dce0a5b",
        "colab": {
          "base_uri": "https://localhost:8080/",
          "height": 34
        }
      },
      "source": [
        "from sklearn.metrics import accuracy_score\n",
        "accuracy_score(y_test, y_pred_mlp)"
      ],
      "execution_count": null,
      "outputs": [
        {
          "output_type": "execute_result",
          "data": {
            "text/plain": [
              "1.0"
            ]
          },
          "metadata": {
            "tags": []
          },
          "execution_count": 33
        }
      ]
    }
  ]
}